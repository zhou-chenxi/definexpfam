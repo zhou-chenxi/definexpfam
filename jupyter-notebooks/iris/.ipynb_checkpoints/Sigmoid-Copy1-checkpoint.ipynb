{
 "cells": [
  {
   "cell_type": "code",
   "execution_count": 1,
   "metadata": {},
   "outputs": [],
   "source": [
    "import os \n",
    "import numpy as np \n",
    "from data_median_dist import *\n",
    "from base_density import *\n",
    "from basis_function import *\n",
    "\n",
    "from scorematching_finexpfam import *\n",
    "from negloglik_finexpfam import *\n",
    "from unnormalized_density import *\n",
    "from plot_density_1d import *\n",
    "\n",
    "from evaluate_scorematching_loss import * \n",
    "import scipy \n",
    "\n",
    "from datetime import datetime \n",
    "\n",
    "import matplotlib.colors as mcolors\n",
    "import matplotlib.pyplot as plt\n",
    "%matplotlib inline \n",
    "\n",
    "import matplotlib.gridspec as gridspec"
   ]
  },
  {
   "cell_type": "code",
   "execution_count": null,
   "metadata": {},
   "outputs": [],
   "source": []
  },
  {
   "cell_type": "code",
   "execution_count": 2,
   "metadata": {},
   "outputs": [],
   "source": [
    "# os.chdir('/Users/chenxizhou/Dropbox/Research_Density_Estimation/data_analysis/old_faithful_geyser')\n",
    "os.chdir('/home/zhouc1/notebooks/definexpfam_results/geyser_waiting')\n",
    "# os.chdir('/home/zhouc1/notebooks/definexpfam_results/geyser_eruptions')\n",
    "true_data = np.load('geyser.npy').astype(np.float64)\n",
    "\n",
    "# ------------------------------------------------------------------------\n",
    "# # original data \n",
    "data_waiting = true_data[:, 0].reshape(-1, 1)\n",
    "# # data_eruptions = true_data[:, 1].reshape(-1, 1)\n",
    "\n",
    "# np.linspace(35., 120., 18).reshape(-1, 1)\n",
    "# waiting_uni = (np.unique(waiting.flatten())[:-1]).reshape(-1, 1)\n",
    "\n",
    "# ------------------------------------------------------------------------\n",
    "# # remove 108 \n",
    "# waiting = waiting[waiting != 108.].reshape(-1, 1)\n",
    "\n",
    "# ------------------------------------------------------------------------\n",
    "# # flip the data\n",
    "# waiting = (2 * np.median(waiting) - waiting).reshape(-1, 1)\n",
    "\n",
    "# ------------------------------------------------------------------------\n",
    "# # shift 108 to different locations \n",
    "# waiting[waiting == 108.] = 120.\n",
    "\n",
    "# ------------------------------------------------------------------------\n",
    "# # add an data point \n",
    "# waiting = np.vstack([waiting, np.array([40.])])\n",
    "\n",
    "# ------------------------------------------------------------------------\n",
    "# # create an isolated obs in the middle \n",
    "# split_pt = np.median(waiting.flatten())\n",
    "# add_value = 20.\n",
    "# waiting[waiting <= split_pt] = waiting[waiting <= split_pt] - add_value\n",
    "# waiting[waiting > split_pt] = waiting[waiting > split_pt] + add_value\n",
    "# waiting = np.vstack([waiting.reshape(-1, 1), np.array([split_pt])])\n",
    "# waiting = waiting[waiting != 108. + add_value].reshape(-1, 1)\n",
    "\n",
    "landmarks = np.unique(data_waiting.flatten()).reshape(-1, 1)\n",
    "# landmarks = np.linspace(40., 110., 16) # data_waiting\n",
    "# landmarks = np.linspace(0.1, 6.9, 20).reshape(-1, 1)\n",
    "xlimit = (21., 124.) # (0., 7.) #  # \n",
    "ylimit = (-0.005, 0.0701) # (-0.005, 0.97) # "
   ]
  },
  {
   "cell_type": "code",
   "execution_count": 14,
   "metadata": {},
   "outputs": [],
   "source": [
    "bw = 11.0\n",
    "basis_function = SigmoidBasisFunction(\n",
    "    landmarks = landmarks,  # data_eruptions, \n",
    "    bw = bw)\n",
    "base_density = BasedenGamma(data_waiting)"
   ]
  },
  {
   "cell_type": "code",
   "execution_count": null,
   "metadata": {},
   "outputs": [],
   "source": [
    "basis_function.bw"
   ]
  },
  {
   "cell_type": "code",
   "execution_count": 15,
   "metadata": {},
   "outputs": [],
   "source": [
    "coef_sm = scorematching_finexpfam_coef(\n",
    "    data = data_waiting, \n",
    "    basis_function = basis_function, \n",
    "    base_density = base_density)"
   ]
  },
  {
   "cell_type": "code",
   "execution_count": null,
   "metadata": {},
   "outputs": [],
   "source": [
    "file_name = f'original_coef_scorematching_bw={basis_function.bw}_unique.npy'\n",
    "np.save(f'{basis_function.basisfunction_name}_basis_function/scorematching/' + file_name, \n",
    "       coef_sm)"
   ]
  },
  {
   "cell_type": "code",
   "execution_count": null,
   "metadata": {},
   "outputs": [],
   "source": []
  },
  {
   "cell_type": "code",
   "execution_count": 16,
   "metadata": {},
   "outputs": [],
   "source": [
    "plot_domain = xlimit # #\n",
    "plot_pts_cnt = 4000\n",
    "x0 = np.linspace(plot_domain[0], plot_domain[1], plot_pts_cnt).reshape(-1, 1)\n",
    "\n",
    "basis_mat = basis_function.basisfunction_eval(x0)\n",
    "y0 = np.matmul(basis_mat.T, coef_sm).flatten()\n",
    "mu = base_density.baseden_eval(x0).flatten()"
   ]
  },
  {
   "cell_type": "code",
   "execution_count": 17,
   "metadata": {},
   "outputs": [
    {
     "data": {
      "text/plain": [
       "[<matplotlib.lines.Line2D at 0x7f4481dfe358>]"
      ]
     },
     "execution_count": 17,
     "metadata": {},
     "output_type": "execute_result"
    },
    {
     "data": {
      "image/png": "[encoded data removed]",
      "text/plain": [
       "<Figure size 720x720 with 1 Axes>"
      ]
     },
     "metadata": {
      "needs_background": "light"
     },
     "output_type": "display_data"
    }
   ],
   "source": [
    "plt.figure(figsize=(10, 10))\n",
    "plt.plot(x0, np.log(mu) + y0, 'b-')\n",
    "#plt.ylim((4e6, 4.3e6))"
   ]
  },
  {
   "cell_type": "code",
   "execution_count": 18,
   "metadata": {},
   "outputs": [
    {
     "data": {
      "text/plain": [
       "1311.4238449205877"
      ]
     },
     "execution_count": 18,
     "metadata": {},
     "output_type": "execute_result"
    }
   ],
   "source": [
    "np.max(y0)"
   ]
  },
  {
   "cell_type": "code",
   "execution_count": 19,
   "metadata": {},
   "outputs": [],
   "source": [
    "sub_const = 1300.# 3050.# 3500. #100 # 260 #345000.\n",
    "def density_eval_1d_cus(basis_function, base_density, coef):\n",
    "\n",
    "    n_obs = basis_function.landmarks.shape[0]\n",
    "    landmarks = basis_function.landmarks\n",
    "    \n",
    "    def den(x): \n",
    "\n",
    "        den_val = (base_density.baseden_eval_1d(x) * \n",
    "                   np.exp(- sub_const + np.sum([coef[i] * basis_function.basis_x_1d(landmarks[i])(x)\n",
    "                          for i in range(n_obs)])))\n",
    "        \n",
    "        return den_val\n",
    "\n",
    "    return den"
   ]
  },
  {
   "cell_type": "code",
   "execution_count": 20,
   "metadata": {},
   "outputs": [
    {
     "data": {
      "text/plain": [
       "2.960094127135949e+232"
      ]
     },
     "execution_count": 20,
     "metadata": {},
     "output_type": "execute_result"
    }
   ],
   "source": [
    "int_result, _ = scipy.integrate.quad(\n",
    "    density_eval_1d_cus(\n",
    "        basis_function = basis_function, \n",
    "        base_density = base_density, \n",
    "        coef = coef_sm), \n",
    "                     a = 0., \n",
    "                     b = np.inf, limit=100)\n",
    "int_result"
   ]
  },
  {
   "cell_type": "code",
   "execution_count": 21,
   "metadata": {},
   "outputs": [
    {
     "data": {
      "text/plain": [
       "(array([0.00823257, 0.02109596, 0.01697968, 0.0072035 , 0.02006689,\n",
       "        0.03653203, 0.02984307, 0.01183432, 0.00154361, 0.00051454]),\n",
       " array([ 43. ,  49.5,  56. ,  62.5,  69. ,  75.5,  82. ,  88.5,  95. ,\n",
       "        101.5, 108. ]),\n",
       " <a list of 10 Patch objects>)"
      ]
     },
     "execution_count": 21,
     "metadata": {},
     "output_type": "execute_result"
    },
    {
     "data": {
      "image/png": "[encoded data removed]",
      "text/plain": [
       "<Figure size 720x720 with 1 Axes>"
      ]
     },
     "metadata": {
      "needs_background": "light"
     },
     "output_type": "display_data"
    }
   ],
   "source": [
    "den_vals = mu * np.exp(y0 - sub_const) / int_result \n",
    "plt.figure(figsize = (10, 10))\n",
    "plt.plot(x0, den_vals, 'b-')\n",
    "plt.xlim(xlimit)\n",
    "plt.ylim(ylimit)\n",
    "plt.hist(data_waiting.flatten(), density = True, bins = 'fd', alpha = 0.5)\n",
    "# plt.vlines(x = 75., ymin = -1, ymax = 1)"
   ]
  },
  {
   "cell_type": "code",
   "execution_count": 22,
   "metadata": {},
   "outputs": [
    {
     "data": {
      "text/plain": [
       "(0.013297065464772127, -0.02699421009922914, -0.013697144634457013)"
      ]
     },
     "execution_count": 22,
     "metadata": {},
     "output_type": "execute_result"
    }
   ],
   "source": [
    "evaluate_scorematching_loss(data_waiting, basis_function, base_density, coef_sm)"
   ]
  },
  {
   "cell_type": "code",
   "execution_count": null,
   "metadata": {},
   "outputs": [],
   "source": [
    "file_name = f'original_denvals_scorematching_bw={basis_function.bw}_0.1_6.9_20.npy'\n",
    "np.save(f'{basis_function.basisfunction_name}_basis_function/scorematching/' + file_name, \n",
    "        den_vals)"
   ]
  },
  {
   "cell_type": "code",
   "execution_count": null,
   "metadata": {},
   "outputs": [],
   "source": []
  },
  {
   "cell_type": "code",
   "execution_count": null,
   "metadata": {},
   "outputs": [],
   "source": []
  },
  {
   "cell_type": "code",
   "execution_count": null,
   "metadata": {},
   "outputs": [],
   "source": []
  },
  {
   "cell_type": "code",
   "execution_count": null,
   "metadata": {},
   "outputs": [],
   "source": [
    "batchmc_params = batch_montecarlo_params(\n",
    "    mc_batch_size = 1000, \n",
    "    mc_tol = 1e-2)\n",
    "\n",
    "nll_algo_params = negloglik_optalgoparams(\n",
    "    start_pt = np.zeros((data_eruptions.shape[0], 1)), \n",
    "    step_size = 0.05, \n",
    "    max_iter = 200, \n",
    "    rel_tol = 5e-2)"
   ]
  },
  {
   "cell_type": "code",
   "execution_count": null,
   "metadata": {
    "scrolled": true
   },
   "outputs": [],
   "source": [
    "now1 = datetime.now()\n",
    "\n",
    "coef_lik = negloglik_finexpfam_coef(\n",
    "    data = data_eruptions, \n",
    "    basis_function = basis_function, \n",
    "    base_density = base_density, \n",
    "    optalgo_params = nll_algo_params, \n",
    "    batchmc_params = batchmc_params,\n",
    "    batch_mc = True, \n",
    "    batch_mc_se = False, \n",
    "    print_error = True)\n",
    "now2 = datetime.now()\n",
    "print(now1, now2)\n",
    "print(now2 - now1)"
   ]
  },
  {
   "cell_type": "code",
   "execution_count": null,
   "metadata": {},
   "outputs": [],
   "source": [
    "file_name = f'original_coef_likelihood_bw={basis_function.bw}.npy'\n",
    "np.save(f'{basis_function.basisfunction_name}_basis_function/likelihood/' + file_name, \n",
    "        coef_lik)"
   ]
  },
  {
   "cell_type": "code",
   "execution_count": null,
   "metadata": {},
   "outputs": [],
   "source": [
    "n_obs = waiting.shape[0]\n",
    "plot_domain = (21., 124.)\n",
    "plot_pts_cnt = 4000\n",
    "x0 = np.linspace(plot_domain[0], plot_domain[1], plot_pts_cnt).reshape(-1, 1)"
   ]
  },
  {
   "cell_type": "code",
   "execution_count": null,
   "metadata": {},
   "outputs": [],
   "source": [
    "basis_mat = basis_function.basisfunction_eval(x0)\n",
    "y0 = np.matmul(basis_mat.T, coef_lik).flatten()\n",
    "mu = base_density.baseden_eval(x0).flatten()"
   ]
  },
  {
   "cell_type": "code",
   "execution_count": null,
   "metadata": {},
   "outputs": [],
   "source": [
    "plt.figure(figsize=(10, 10))\n",
    "plt.plot(x0, np.log(mu) + y0, 'b-')\n",
    "#plt.ylim((4e6, 4.3e6))"
   ]
  },
  {
   "cell_type": "code",
   "execution_count": null,
   "metadata": {},
   "outputs": [],
   "source": []
  },
  {
   "cell_type": "code",
   "execution_count": null,
   "metadata": {},
   "outputs": [],
   "source": []
  },
  {
   "cell_type": "code",
   "execution_count": null,
   "metadata": {},
   "outputs": [],
   "source": []
  },
  {
   "cell_type": "code",
   "execution_count": null,
   "metadata": {},
   "outputs": [],
   "source": [
    "unnorm = UnnormalizedDensityFinExpFam(\n",
    "    data = waiting, \n",
    "    basis_function = basis_function, \n",
    "    base_density = base_density, \n",
    "    coef = coef_lik)"
   ]
  },
  {
   "cell_type": "code",
   "execution_count": null,
   "metadata": {},
   "outputs": [],
   "source": [
    "unnorm_fun = unnorm.density_eval\n",
    "unnorm_fun_int = unnorm.density_eval_1d\n",
    "x0_cand = np.linspace(xlimit[0], xlimit[1], num=plot_pts_cnt).reshape(-1, 1)\n",
    "plot_val = unnorm_fun(x0_cand)"
   ]
  },
  {
   "cell_type": "code",
   "execution_count": null,
   "metadata": {},
   "outputs": [],
   "source": [
    "norm_const, _ = integrate.nquad(unnorm_fun_int, base_density.domain, opts={'limit': 100})"
   ]
  },
  {
   "cell_type": "code",
   "execution_count": null,
   "metadata": {},
   "outputs": [],
   "source": [
    "plot_params = plot_density_1d_params(x_limit = xlimit, y_limit = ylimit, plot_pts_cnt=4000)"
   ]
  },
  {
   "cell_type": "code",
   "execution_count": null,
   "metadata": {},
   "outputs": [],
   "source": [
    "den_vals = plot_density_1d(\n",
    "    data = data_eruptions, \n",
    "    basis_function = basis_function, \n",
    "    base_density = base_density, \n",
    "    coef = coef_lik, \n",
    "    normalizing = True, \n",
    "    method = 'likelihood', \n",
    "    x_label = 'eruptions',\n",
    "    plot_kwargs = plot_params, \n",
    "    save_plot = False, \n",
    "    save_dir = None, \n",
    "    save_filename = None)"
   ]
  },
  {
   "cell_type": "code",
   "execution_count": null,
   "metadata": {},
   "outputs": [],
   "source": [
    "file_name = f'original_denvals_likelihood_bw={basis_function.bw}.npy'\n",
    "np.save(f'{basis_function.basisfunction_name}_basis_function/likelihood/' + file_name, \n",
    "        den_vals['den_vals'])"
   ]
  },
  {
   "cell_type": "code",
   "execution_count": null,
   "metadata": {},
   "outputs": [],
   "source": []
  }
 ],
 "metadata": {
  "kernelspec": {
   "display_name": "Python 3",
   "language": "python",
   "name": "python3"
  },
  "language_info": {
   "codemirror_mode": {
    "name": "ipython",
    "version": 3
   },
   "file_extension": ".py",
   "mimetype": "text/x-python",
   "name": "python",
   "nbconvert_exporter": "python",
   "pygments_lexer": "ipython3",
   "version": "3.6.8"
  }
 },
 "nbformat": 4,
 "nbformat_minor": 4
}
