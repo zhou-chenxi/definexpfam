{
 "cells": [
  {
   "cell_type": "code",
   "execution_count": 1,
   "metadata": {},
   "outputs": [],
   "source": [
    "import os \n",
    "import numpy as np \n",
    "from data_median_dist import *\n",
    "from base_density import *\n",
    "from basis_function import *\n",
    "\n",
    "from scorematching_finexpfam import *\n",
    "from negloglik_finexpfam import *\n",
    "from unnormalized_density import *\n",
    "from plot_density_1d import *\n",
    "\n",
    "import scipy \n",
    "\n",
    "from datetime import datetime \n",
    "\n",
    "import matplotlib.colors as mcolors\n",
    "import matplotlib.pyplot as plt\n",
    "%matplotlib inline \n",
    "\n",
    "import matplotlib.gridspec as gridspec"
   ]
  },
  {
   "cell_type": "code",
   "execution_count": null,
   "metadata": {},
   "outputs": [],
   "source": []
  },
  {
   "cell_type": "code",
   "execution_count": 2,
   "metadata": {},
   "outputs": [],
   "source": [
    "# os.chdir('/Users/chenxizhou/Dropbox/Research_Density_Estimation/data_analysis/old_faithful_geyser')\n",
    "os.chdir('/home/zhouc1/notebooks/definexpfam_results/geyser_waiting')\n",
    "# os.chdir('/home/zhouc1/notebooks/definexpfam_results/geyser_eruptions')\n",
    "true_data = np.load('geyser.npy').astype(np.float64)\n",
    "\n",
    "# ------------------------------------------------------------------------\n",
    "# # original data \n",
    "data_waiting = true_data[:, 0].reshape(-1, 1)\n",
    "# data_eruptions = true_data[:, 1].reshape(-1, 1)\n",
    "\n",
    "# np.linspace(35., 120., 18).reshape(-1, 1)\n",
    "# waiting_uni = (np.unique(waiting.flatten())[:-1]).reshape(-1, 1)\n",
    "\n",
    "# ------------------------------------------------------------------------\n",
    "# # remove 108 \n",
    "# waiting = waiting[waiting != 108.].reshape(-1, 1)\n",
    "\n",
    "# ------------------------------------------------------------------------\n",
    "# # flip the data\n",
    "# waiting = (2 * np.median(waiting) - waiting).reshape(-1, 1)\n",
    "\n",
    "# ------------------------------------------------------------------------\n",
    "# # shift 108 to different locations \n",
    "# waiting[waiting == 108.] = 120.\n",
    "\n",
    "# ------------------------------------------------------------------------\n",
    "# # add an data point \n",
    "# waiting = np.vstack([waiting, np.array([40.])])\n",
    "\n",
    "# ------------------------------------------------------------------------\n",
    "# # create an isolated obs in the middle \n",
    "# split_pt = np.median(waiting.flatten())\n",
    "# add_value = 20.\n",
    "# waiting[waiting <= split_pt] = waiting[waiting <= split_pt] - add_value\n",
    "# waiting[waiting > split_pt] = waiting[waiting > split_pt] + add_value\n",
    "# waiting = np.vstack([waiting.reshape(-1, 1), np.array([split_pt])])\n",
    "# waiting = waiting[waiting != 108. + add_value].reshape(-1, 1)\n",
    "\n",
    "landmarks = np.unique(data_waiting.flatten()).reshape(-1, 1)\n",
    "# landmarks = np.linspace(30., 120., 19).reshape(-1, 1)\n",
    "\n",
    "xlimit = (21., 124.) # (0., 7.)\n",
    "ylimit = (-0.005, 0.0701) # (-0.005, 0.97)"
   ]
  },
  {
   "cell_type": "code",
   "execution_count": 58,
   "metadata": {},
   "outputs": [],
   "source": [
    "bw = 17.4\n",
    "basis_function = LogisticBasisFunction(\n",
    "    landmarks = landmarks, # data_waiting # data_eruptions, \n",
    "    bw = bw)\n",
    "base_density = BasedenGamma(data_waiting)"
   ]
  },
  {
   "cell_type": "code",
   "execution_count": null,
   "metadata": {},
   "outputs": [],
   "source": []
  },
  {
   "cell_type": "code",
   "execution_count": 59,
   "metadata": {},
   "outputs": [],
   "source": [
    "coef_sm = scorematching_finexpfam_coef(\n",
    "    data = data_waiting, # data_eruptions, \n",
    "    basis_function = basis_function, \n",
    "    base_density = base_density)"
   ]
  },
  {
   "cell_type": "code",
   "execution_count": 34,
   "metadata": {},
   "outputs": [],
   "source": [
    "file_name = f'original_coef_scorematching_bw={basis_function.bw}_unique.npy'\n",
    "np.save(f'{basis_function.basisfunction_name}_basis_function/scorematching/' + file_name, \n",
    "       coef_sm)"
   ]
  },
  {
   "cell_type": "code",
   "execution_count": null,
   "metadata": {},
   "outputs": [],
   "source": [
    "len(coef_sm)"
   ]
  },
  {
   "cell_type": "code",
   "execution_count": null,
   "metadata": {},
   "outputs": [],
   "source": []
  },
  {
   "cell_type": "code",
   "execution_count": 60,
   "metadata": {},
   "outputs": [],
   "source": [
    "plot_domain = xlimit\n",
    "plot_pts_cnt = 4000\n",
    "x0 = np.linspace(plot_domain[0], plot_domain[1], plot_pts_cnt).reshape(-1, 1)"
   ]
  },
  {
   "cell_type": "code",
   "execution_count": 61,
   "metadata": {},
   "outputs": [],
   "source": [
    "basis_mat = basis_function.basisfunction_eval(x0)\n",
    "y0 = np.matmul(basis_mat.T, coef_sm).flatten()\n",
    "mu = base_density.baseden_eval(x0).flatten()"
   ]
  },
  {
   "cell_type": "code",
   "execution_count": 62,
   "metadata": {},
   "outputs": [
    {
     "data": {
      "text/plain": [
       "[<matplotlib.lines.Line2D at 0x7f946ad1bc50>]"
      ]
     },
     "execution_count": 62,
     "metadata": {},
     "output_type": "execute_result"
    },
    {
     "data": {
      "image/png": "[encoded data removed]",
      "text/plain": [
       "<Figure size 720x720 with 1 Axes>"
      ]
     },
     "metadata": {
      "needs_background": "light"
     },
     "output_type": "display_data"
    }
   ],
   "source": [
    "plt.figure(figsize=(10, 10))\n",
    "plt.plot(x0, np.log(mu) + y0, 'b-')\n",
    "#plt.ylim((4e6, 4.3e6))"
   ]
  },
  {
   "cell_type": "code",
   "execution_count": 63,
   "metadata": {},
   "outputs": [
    {
     "data": {
      "text/plain": [
       "19364.338816615986"
      ]
     },
     "execution_count": 63,
     "metadata": {},
     "output_type": "execute_result"
    }
   ],
   "source": [
    "np.max(y0)"
   ]
  },
  {
   "cell_type": "code",
   "execution_count": 66,
   "metadata": {},
   "outputs": [],
   "source": [
    "sub_const = 19370. #171. #100 # 260 #345000.\n",
    "def density_eval_1d_cus(data, basis_function, base_density, coef):\n",
    "\n",
    "    n_obs = basis_function.landmarks.shape[0]\n",
    "    landmarks = basis_function.landmarks\n",
    "    \n",
    "    def den(x): \n",
    "\n",
    "        den_val = (base_density.baseden_eval_1d(x) * \n",
    "                   np.exp(- sub_const + np.sum([coef[i] * basis_function.basis_x_1d(landmarks[i])(x)\n",
    "                          for i in range(n_obs)])))\n",
    "        \n",
    "        return den_val\n",
    "\n",
    "    return den"
   ]
  },
  {
   "cell_type": "code",
   "execution_count": 67,
   "metadata": {},
   "outputs": [
    {
     "data": {
      "text/plain": [
       "2.483536492281573e-16"
      ]
     },
     "execution_count": 67,
     "metadata": {},
     "output_type": "execute_result"
    }
   ],
   "source": [
    "int_result, _ = scipy.integrate.quad(\n",
    "    density_eval_1d_cus(\n",
    "        data = data_waiting, # data_eruptions, \n",
    "        basis_function = basis_function, \n",
    "        base_density = base_density, \n",
    "        coef = coef_sm), \n",
    "    a = 0., \n",
    "    b = np.inf, \n",
    "    limit = 100)\n",
    "int_result"
   ]
  },
  {
   "cell_type": "code",
   "execution_count": 68,
   "metadata": {},
   "outputs": [
    {
     "data": {
      "text/plain": [
       "(-0.005, 0.0701)"
      ]
     },
     "execution_count": 68,
     "metadata": {},
     "output_type": "execute_result"
    },
    {
     "data": {
      "image/png": "[encoded data removed]",
      "text/plain": [
       "<Figure size 720x720 with 1 Axes>"
      ]
     },
     "metadata": {
      "needs_background": "light"
     },
     "output_type": "display_data"
    }
   ],
   "source": [
    "den_vals = mu * np.exp(y0 - sub_const) / int_result \n",
    "plt.figure(figsize = (10, 10))\n",
    "plt.plot(x0, den_vals, 'b-')\n",
    "plt.xlim(xlimit)\n",
    "plt.ylim(ylimit)\n",
    "# plt.vlines(x = 75., ymin = -1, ymax = 1)"
   ]
  },
  {
   "cell_type": "code",
   "execution_count": null,
   "metadata": {},
   "outputs": [],
   "source": []
  },
  {
   "cell_type": "code",
   "execution_count": 69,
   "metadata": {},
   "outputs": [],
   "source": [
    "file_name = f'original_denvals_scorematching_bw={basis_function.bw}_unique.npy'\n",
    "np.save(f'{basis_function.basisfunction_name}_basis_function/scorematching/' + file_name, \n",
    "        den_vals)"
   ]
  },
  {
   "cell_type": "code",
   "execution_count": null,
   "metadata": {},
   "outputs": [],
   "source": []
  },
  {
   "cell_type": "code",
   "execution_count": null,
   "metadata": {},
   "outputs": [],
   "source": [
    "bbww = 16.0\n",
    "file_name = f'original_denvals_scorematching_bw={bbww}.npy'\n",
    "yy0 = np.load(f'{basis_function.basisfunction_name}_basis_function/scorematching/' + file_name)\n",
    "plt.figure(figsize=(10, 10))\n",
    "plt.plot(x0, yy0, 'b-')\n",
    "plt.ylim(ylimit)"
   ]
  },
  {
   "cell_type": "code",
   "execution_count": null,
   "metadata": {},
   "outputs": [],
   "source": []
  },
  {
   "cell_type": "code",
   "execution_count": null,
   "metadata": {},
   "outputs": [],
   "source": []
  },
  {
   "cell_type": "code",
   "execution_count": null,
   "metadata": {},
   "outputs": [],
   "source": [
    "bw = 16.0\n",
    "basis_function = LogisticBasisFunction(\n",
    "    landmarks = landmarks,\n",
    "    bw = bw)\n",
    "base_density = BasedenGamma(data_waiting)"
   ]
  },
  {
   "cell_type": "code",
   "execution_count": null,
   "metadata": {},
   "outputs": [],
   "source": [
    "batchmc_params = batch_montecarlo_params(\n",
    "    mc_batch_size = 1000, \n",
    "    mc_tol = 1e-2)\n",
    "\n",
    "nll_algo_params = negloglik_optalgoparams(\n",
    "    start_pt = np.random.randn(landmarks.shape[0]).reshape(-1, 1), # -np.ones((landmarks.shape[0], 1)), \n",
    "    step_size = 0.1, \n",
    "    max_iter = 500, \n",
    "    rel_tol = 5e-2)"
   ]
  },
  {
   "cell_type": "code",
   "execution_count": null,
   "metadata": {
    "scrolled": true
   },
   "outputs": [],
   "source": [
    "now1 = datetime.now()\n",
    "\n",
    "coef_lik = negloglik_finexpfam_coef(\n",
    "    data = data_waiting, \n",
    "    basis_function = basis_function, \n",
    "    base_density = base_density, \n",
    "    optalgo_params = nll_algo_params, \n",
    "    batchmc_params = batchmc_params,\n",
    "    batch_mc = True, \n",
    "    batch_mc_se = False, \n",
    "    print_error = True)\n",
    "now2 = datetime.now()\n",
    "print(now1, now2)\n",
    "print(now2 - now1)"
   ]
  },
  {
   "cell_type": "code",
   "execution_count": null,
   "metadata": {},
   "outputs": [],
   "source": [
    "file_name = f'original_coef_likelihood_bw={basis_function.bw}_unique.npy'\n",
    "np.save(f'{basis_function.basisfunction_name}_basis_function/likelihood/' + file_name, \n",
    "        coef_lik)"
   ]
  },
  {
   "cell_type": "code",
   "execution_count": null,
   "metadata": {},
   "outputs": [],
   "source": [
    "plot_params = plot_density_1d_params(x_limit = xlimit, y_limit = ylimit, plot_pts_cnt=4000)"
   ]
  },
  {
   "cell_type": "code",
   "execution_count": null,
   "metadata": {},
   "outputs": [],
   "source": [
    "den_vals = plot_density_1d(\n",
    "    data = data_waiting, \n",
    "    basis_function = basis_function, \n",
    "    base_density = base_density, \n",
    "    coef = coef_lik, \n",
    "    normalizing = True, \n",
    "    method = 'likelihood', \n",
    "    x_label = 'waiting',\n",
    "    plot_kwargs = plot_params, \n",
    "    save_plot = False, \n",
    "    save_dir = None, \n",
    "    save_filename = None)"
   ]
  },
  {
   "cell_type": "code",
   "execution_count": null,
   "metadata": {},
   "outputs": [],
   "source": [
    "file_name = f'original_denvals_likelihood_bw={basis_function.bw}_unique.npy'\n",
    "np.save(f'{basis_function.basisfunction_name}_basis_function/likelihood/' + file_name, \n",
    "        den_vals['den_vals'])"
   ]
  },
  {
   "cell_type": "code",
   "execution_count": null,
   "metadata": {},
   "outputs": [],
   "source": []
  }
 ],
 "metadata": {
  "kernelspec": {
   "display_name": "Python 3",
   "language": "python",
   "name": "python3"
  },
  "language_info": {
   "codemirror_mode": {
    "name": "ipython",
    "version": 3
   },
   "file_extension": ".py",
   "mimetype": "text/x-python",
   "name": "python",
   "nbconvert_exporter": "python",
   "pygments_lexer": "ipython3",
   "version": "3.6.8"
  }
 },
 "nbformat": 4,
 "nbformat_minor": 4
}
