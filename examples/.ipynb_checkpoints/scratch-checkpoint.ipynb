{
 "cells": [
  {
   "cell_type": "code",
   "execution_count": 1,
   "id": "cc031003",
   "metadata": {},
   "outputs": [],
   "source": [
    "import os \n",
    "import copy \n",
    "from scipy import integrate\n",
    "import matplotlib.pyplot as plt \n",
    "\n",
    "from definexpfam.contam_density_estimate_sm_ml import *\n",
    "from definexpfam.check import *\n",
    "from definexpfam.basis_function import *\n",
    "from definexpfam.base_density import *\n",
    "from definexpfam.negloglik_finexpfam import negloglik_optalgoparams, batch_montecarlo_params"
   ]
  },
  {
   "cell_type": "code",
   "execution_count": null,
   "id": "e8f6fe4d",
   "metadata": {},
   "outputs": [],
   "source": []
  },
  {
   "cell_type": "code",
   "execution_count": null,
   "id": "52ed7211",
   "metadata": {},
   "outputs": [],
   "source": []
  },
  {
   "cell_type": "code",
   "execution_count": null,
   "id": "260eb665",
   "metadata": {},
   "outputs": [],
   "source": []
  },
  {
   "cell_type": "code",
   "execution_count": null,
   "id": "cc5a7193",
   "metadata": {},
   "outputs": [],
   "source": []
  },
  {
   "cell_type": "code",
   "execution_count": null,
   "id": "a53f6dd8",
   "metadata": {},
   "outputs": [],
   "source": []
  },
  {
   "cell_type": "code",
   "execution_count": 2,
   "id": "407cb0bd",
   "metadata": {},
   "outputs": [],
   "source": [
    "os.chdir('/Users/chenxizhou/Dropbox/code_package/definexpfam')\n",
    "true_data = np.load('data/geyser.npy').astype(np.float64)\n",
    "df = copy.deepcopy(true_data[:, 0]).reshape(-1, 1)\n",
    "\n",
    "# original data with 108.0 removed\n",
    "data_waiting = df[df != 108.0]\n",
    "\n",
    "# contam data list \n",
    "contam_data_array = np.arange(2., 410., 4)\n",
    "contam_weight = 0.01\n",
    "\n",
    "# basis function \n",
    "basisfunction_name = 'Gaussian'\n",
    "bw = 9.0\n",
    "\n",
    "# base density\n",
    "base_density = BasedenGamma(np.load('data/geyser.npy').astype(np.float64)[:, 0])\n",
    "\n",
    "# new data \n",
    "plot_xlimit = (1., 410.)\n",
    "plot_cnt = 3000\n",
    "new_data = np.linspace(plot_xlimit[0], plot_xlimit[1], plot_cnt)\n",
    "\n",
    "# grid points\n",
    "landmarks = np.arange(2., 411., 2).reshape(-1, 1) # np.arange(42., 101., 2).reshape(-1, 1)\n",
    "landmarks_name = 'np.arange(2., 411., 2).reshape(-1, 1)'\n",
    "\n",
    "# base density \n",
    "base_density = BasedenGamma(data_waiting)\n",
    "\n",
    "# save_dir_sm = (f'data/FinExpFam-SM-basisn={len(landmarks)}-landmarks={landmarks_name}-bw={bw}-basisfunction={basisfunction_name}-' + \n",
    "#                f'contamweight={contam_weight}-plotdomain={plot_xlimit}-plotcnts={plot_cnt}')\n",
    "\n",
    "# if not os.path.isdir(save_dir_sm):\n",
    "#     os.mkdir(save_dir_sm)"
   ]
  },
  {
   "cell_type": "code",
   "execution_count": 3,
   "id": "5700a108",
   "metadata": {},
   "outputs": [],
   "source": [
    "# unconta density \n",
    "uncontam_den = ContamSMFinExpFam(\n",
    "    data = data_waiting, \n",
    "    contam_data = np.array([298.]).reshape(-1, 1), # contam_data_array[0].reshape(-1, 1), \n",
    "    contam_weight = 0., \n",
    "    base_density = base_density, \n",
    "    landmarks = landmarks, \n",
    "    bw = bw, \n",
    "    degree=None, \n",
    "    basisfunction_name=basisfunction_name)"
   ]
  },
  {
   "cell_type": "code",
   "execution_count": 5,
   "id": "0ef9470e",
   "metadata": {},
   "outputs": [],
   "source": [
    "# uncontam coefficient \n",
    "uncontam_coef = uncontam_den.coef()\n",
    "# file_name_newdata = f'/new_data.npy'\n",
    "# np.save(save_dir_sm + file_name_newdata, new_data)\n",
    "\n",
    "# file_name_grid_points = f'/landmarks.npy'\n",
    "# np.save(save_dir_sm + file_name_grid_points, landmarks)\n",
    "\n",
    "# file_name_contamdata = f'/contam_data.npy'\n",
    "# np.save(save_dir_sm + file_name_contamdata, contam_data_array)\n",
    "\n",
    "# file_name_coef = f'/uncontam-coef.npy'\n",
    "# np.save(save_dir_sm + file_name_coef, uncontam_coef)"
   ]
  },
  {
   "cell_type": "code",
   "execution_count": 6,
   "id": "c601333d",
   "metadata": {},
   "outputs": [],
   "source": [
    "log_base_den_vals = np.log(base_density.baseden_eval(new_data).flatten())"
   ]
  },
  {
   "cell_type": "code",
   "execution_count": 7,
   "id": "c466d0f0",
   "metadata": {},
   "outputs": [
    {
     "data": {
      "image/png": "[encoded data removed]",
      "text/plain": [
       "<Figure size 1440x720 with 1 Axes>"
      ]
     },
     "metadata": {
      "needs_background": "light"
     },
     "output_type": "display_data"
    }
   ],
   "source": [
    "uncontam_natparam_new = uncontam_den.natparam(\n",
    "    new_data=new_data,\n",
    "    coef=uncontam_coef)\n",
    "\n",
    "plt.figure(figsize = (20, 10))\n",
    "plt.plot(new_data, uncontam_natparam_new + log_base_den_vals, color = 'tab:blue', lw = 3.0)\n",
    "plt.show()"
   ]
  },
  {
   "cell_type": "code",
   "execution_count": null,
   "id": "867a6ae2",
   "metadata": {},
   "outputs": [],
   "source": [
    "# uncontam log density values\n",
    "uncontam_logdenvals_new = uncontam_den.log_density(\n",
    "    new_data=new_data,\n",
    "    coef=uncontam_coef,\n",
    "    minus_const=0.,\n",
    "    compute_base_density=True)\n",
    "\n",
    "plt.figure(figsize = (20, 10))\n",
    "plt.plot(new_data, np.exp(uncontam_logdenvals_new), color = 'tab:blue', lw = 3.0)\n",
    "plt.show()"
   ]
  },
  {
   "cell_type": "code",
   "execution_count": null,
   "id": "88e0c21d",
   "metadata": {},
   "outputs": [],
   "source": [
    "basis_function = GaussianBasisFunction(landmarks, bw)"
   ]
  },
  {
   "cell_type": "code",
   "execution_count": null,
   "id": "ce82676c",
   "metadata": {},
   "outputs": [],
   "source": [
    "uncontam_coef"
   ]
  },
  {
   "cell_type": "code",
   "execution_count": null,
   "id": "5b88bad4",
   "metadata": {},
   "outputs": [],
   "source": []
  },
  {
   "cell_type": "code",
   "execution_count": null,
   "id": "f2d2330a",
   "metadata": {},
   "outputs": [],
   "source": [
    "uncontam_natparam_new = uncontam_den.natparam(\n",
    "    new_data=new_data,\n",
    "    coef=uncontam_coef)\n",
    "bd = base_density.baseden_eval(new_data).flatten()\n",
    "\n",
    "plt.figure(figsize = (20, 10))\n",
    "plt.plot(new_data, np.exp(uncontam_natparam_new - 14000.) / result/ 10, color = 'tab:blue', lw = 3.0)\n",
    "plt.show()"
   ]
  },
  {
   "cell_type": "code",
   "execution_count": null,
   "id": "ea117120",
   "metadata": {},
   "outputs": [],
   "source": []
  },
  {
   "cell_type": "code",
   "execution_count": null,
   "id": "cb43fcd7",
   "metadata": {},
   "outputs": [],
   "source": []
  },
  {
   "cell_type": "code",
   "execution_count": null,
   "id": "493b3e79",
   "metadata": {},
   "outputs": [],
   "source": []
  },
  {
   "cell_type": "code",
   "execution_count": null,
   "id": "8f0ad36d",
   "metadata": {},
   "outputs": [],
   "source": []
  },
  {
   "cell_type": "code",
   "execution_count": null,
   "id": "42159a4d",
   "metadata": {},
   "outputs": [],
   "source": [
    "uncontam_coef1 = uncontam_den.coef(pen_param = 1e-6)\n",
    "uncontam_natparam_new1 = uncontam_den.natparam(\n",
    "    new_data=new_data,\n",
    "    coef=uncontam_coef1)\n",
    "\n",
    "plt.figure(figsize = (20, 10))\n",
    "plt.plot(new_data, uncontam_natparam_new1, color = 'tab:blue', lw = 3.0)\n",
    "plt.show()"
   ]
  },
  {
   "cell_type": "code",
   "execution_count": null,
   "id": "b0366a8f",
   "metadata": {},
   "outputs": [],
   "source": [
    "np.max()"
   ]
  },
  {
   "cell_type": "code",
   "execution_count": null,
   "id": "5ffbe6b8",
   "metadata": {},
   "outputs": [],
   "source": [
    "# uncontam log density values\n",
    "uncontam_logdenvals_new1 = uncontam_den.log_density(\n",
    "    new_data=new_data,\n",
    "    coef=uncontam_coef,\n",
    "    minus_const=140.,\n",
    "    compute_base_density=True)"
   ]
  },
  {
   "cell_type": "code",
   "execution_count": null,
   "id": "6005d4e6",
   "metadata": {},
   "outputs": [],
   "source": [
    "plt.figure(figsize = (20, 10))\n",
    "plt.plot(new_data, np.exp(uncontam_logdenvals_new1), color = 'tab:blue', lw = 3.0)\n",
    "plt.show()"
   ]
  },
  {
   "cell_type": "code",
   "execution_count": null,
   "id": "7c9abd36",
   "metadata": {},
   "outputs": [],
   "source": []
  },
  {
   "cell_type": "code",
   "execution_count": null,
   "id": "00e096cc",
   "metadata": {},
   "outputs": [],
   "source": []
  },
  {
   "cell_type": "code",
   "execution_count": null,
   "id": "71cee7ad",
   "metadata": {},
   "outputs": [],
   "source": [
    "file_name_diff = f'/uncontam-logden-newdata.npy'\n",
    "np.save(save_dir_sm + file_name_diff, uncontam_logdenvals_new)\n",
    "print('uncontam_logdensity saved.')"
   ]
  },
  {
   "cell_type": "code",
   "execution_count": null,
   "id": "0f50e957",
   "metadata": {},
   "outputs": [],
   "source": []
  },
  {
   "cell_type": "code",
   "execution_count": null,
   "id": "2b82adb3",
   "metadata": {
    "scrolled": false
   },
   "outputs": [],
   "source": [
    "for i in range(len(contam_data_array)): \n",
    "    \n",
    "    print('*' * 80)\n",
    "    contam_data = contam_data_array[i].reshape(-1, 1)\n",
    "    # contaminated density \n",
    "    contam_den = ContamSMFinExpFam(\n",
    "        data = data_waiting, \n",
    "        contam_data = contam_data.reshape(-1, 1), \n",
    "        contam_weight = contam_weight, \n",
    "        base_density = base_density, \n",
    "        landmarks = landmarks, \n",
    "        bw = bw, \n",
    "        degree=None, \n",
    "        basisfunction_name=basisfunction_name)\n",
    "    print(f'contam_data = {contam_data}')\n",
    "    \n",
    "    contam_coef = contam_den.coef(1e-6)\n",
    "\n",
    "    contam_natparam_new = contam_den.natparam(\n",
    "        new_data=new_data,\n",
    "        coef=contam_coef)\n",
    "\n",
    "    plt.figure(figsize = (20, 10))\n",
    "    plt.plot(new_data, contam_natparam_new, color = 'tab:blue', lw = 3.0)\n",
    "    plt.show()\n",
    "    \n",
    "    contam_logdenvals_new = contam_den.log_density(\n",
    "        new_data=new_data,\n",
    "        coef=contam_coef,\n",
    "        minus_const=0.,\n",
    "        compute_base_density=True)\n",
    "    \n",
    "    file_name_coef = f'/contam_data={contam_data.flatten()}-contam-coef.npy'\n",
    "    np.save(save_dir_sm + file_name_coef, contam_coef)\n",
    "    \n",
    "    file_name_diff = f'/contam_data={contam_data.flatten()}-contam-logden-newdata.npy'\n",
    "    np.save(save_dir_sm + file_name_diff, contam_logdenvals_new)\n",
    "    \n",
    "    inf_val = (contam_logdenvals_new.flatten() - uncontam_logdenvals_new.flatten()) / contam_weight\n",
    "    \n",
    "    plt.figure(figsize = (20, 10))\n",
    "    plt.plot(new_data, inf_val, color = 'tab:blue', lw = 3.0)\n",
    "    plt.show()\n",
    "    \n",
    "    file_name_inf = f'/contam_data={contam_data.flatten()}-IF-logden-newdata.npy'\n",
    "    np.save(save_dir_sm + file_name_inf, inf_val)\n",
    "    "
   ]
  },
  {
   "cell_type": "code",
   "execution_count": null,
   "id": "e8d123c3",
   "metadata": {},
   "outputs": [],
   "source": []
  },
  {
   "cell_type": "code",
   "execution_count": null,
   "id": "9923d23a",
   "metadata": {},
   "outputs": [],
   "source": []
  }
 ],
 "metadata": {
  "kernelspec": {
   "display_name": "Python 3",
   "language": "python",
   "name": "python3"
  },
  "language_info": {
   "codemirror_mode": {
    "name": "ipython",
    "version": 3
   },
   "file_extension": ".py",
   "mimetype": "text/x-python",
   "name": "python",
   "nbconvert_exporter": "python",
   "pygments_lexer": "ipython3",
   "version": "3.8.8"
  }
 },
 "nbformat": 4,
 "nbformat_minor": 5
}
