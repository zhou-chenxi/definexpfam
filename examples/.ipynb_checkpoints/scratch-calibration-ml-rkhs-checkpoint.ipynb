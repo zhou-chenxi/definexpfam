{
 "cells": [
  {
   "cell_type": "code",
   "execution_count": null,
   "id": "456a422f",
   "metadata": {},
   "outputs": [],
   "source": []
  },
  {
   "cell_type": "code",
   "execution_count": null,
   "id": "bead9aa6",
   "metadata": {},
   "outputs": [],
   "source": [
    "import os \n",
    "import copy \n",
    "\n",
    "os.chdir('/Users/chenxizhou/Dropbox/code_package/IFlogdensity')\n",
    "true_data = np.load('data/geyser.npy').astype(np.float64)\n",
    "df = copy.deepcopy(true_data[:, 0]).reshape(-1, 1)\n",
    "# original data with 108.0 removed\n",
    "data_waiting = df[df != 108.0]"
   ]
  },
  {
   "cell_type": "code",
   "execution_count": null,
   "id": "37362216",
   "metadata": {},
   "outputs": [],
   "source": []
  },
  {
   "cell_type": "code",
   "execution_count": null,
   "id": "a1c40744",
   "metadata": {},
   "outputs": [],
   "source": [
    "contam_data = np.array([120.]).reshape(-1, 1)\n",
    "kernel_type = 'gaussian_poly2'\n",
    "r1, r2, c, bw = 1.0, 0., 0., 5.\n",
    "contam_weight = 0.01\n",
    "uncontam_log_pen_param = -10.0\n",
    "xlimit = (1.0, 410.0)\n",
    "plot_pts_cnt = 3000\n",
    "stepsize = 1.0\n",
    "seed = 0\n",
    "np.random.seed(seed)\n",
    "base_density = BasedenGamma(data_waiting)\n",
    "dir_name = (f'data/ML-basisn=205-bw={bw}-' + \n",
    "            f'kernel={kernel_type}-loglambda={uncontam_log_pen_param}-contamweight={contam_weight}-' + \n",
    "            f'plotdomain={xlimit}-plotcnts={plot_pts_cnt}-abstol=0.015-stepsize={stepsize}-seed={seed}')\n",
    "\n",
    "uncontam_coef = np.load(dir_name + '/uncontam-coef.npy')\n",
    "grid_points = np.arange(1., 411., 2).reshape(-1, 1)\n",
    "\n",
    "cml = ConstrainedContamML(\n",
    "    data = data_waiting, \n",
    "    contam_data = contam_data, \n",
    "    kernel_type = kernel_type, \n",
    "    r1 = r1, \n",
    "    r2 = r2, \n",
    "    c = c, \n",
    "    bw = bw, \n",
    "    contam_weight = contam_weight, \n",
    "    base_density = base_density,\n",
    "    uncontam_coef = uncontam_coef, \n",
    "    uncontam_penalty_param = np.exp(uncontam_log_pen_param), \n",
    "    grid_points = grid_points)"
   ]
  },
  {
   "cell_type": "code",
   "execution_count": null,
   "id": "8d6cc82d",
   "metadata": {
    "scrolled": false
   },
   "outputs": [],
   "source": [
    "batchmc_params = batch_montecarlo_params(\n",
    "    mc_batch_size=5000, \n",
    "    mc_tol=5e-3)\n",
    "optalgo_params = negloglik_optalgoparams(\n",
    "    start_pt = np.zeros((len(grid_points), )).reshape(-1, 1), \n",
    "    step_size = 1.2, \n",
    "    max_iter = 1e2, \n",
    "    rel_tol = 1e-5, \n",
    "    abs_tol = 0.05)\n",
    "\n",
    "intpt_coef = cml.coef_interior_point(\n",
    "    target_norm = cml.uncontam_norm_ml, \n",
    "    starting_t = 10000., \n",
    "    t_factor = 1.1, \n",
    "    tol_param = 1e-6, \n",
    "    norm_tol_param = 0.01, \n",
    "    intpt_max_iter = 10, \n",
    "    batchmc_params = batchmc_params, \n",
    "    optalgo_params = optalgo_params, \n",
    "    print_error = True)"
   ]
  },
  {
   "cell_type": "code",
   "execution_count": null,
   "id": "ce9239f7",
   "metadata": {},
   "outputs": [],
   "source": []
  },
  {
   "cell_type": "code",
   "execution_count": null,
   "id": "d648ed6b",
   "metadata": {},
   "outputs": [],
   "source": [
    "new_data = np.linspace(1., 410., 3000).reshape(-1, 1)\n",
    "yyy = cml.calibrated_ml_log_density(\n",
    "    new_data, \n",
    "    coef = intpt_coef, \n",
    "    compute_base_density=True)"
   ]
  },
  {
   "cell_type": "code",
   "execution_count": null,
   "id": "be0bd6f1",
   "metadata": {},
   "outputs": [],
   "source": [
    "import matplotlib.pyplot as plt\n",
    "plt.figure(figsize = (10, 10))\n",
    "plt.plot(new_data, np.exp(yyy), color = 'tab:blue', lw = 3.)"
   ]
  },
  {
   "cell_type": "code",
   "execution_count": null,
   "id": "fcb65f21",
   "metadata": {},
   "outputs": [],
   "source": []
  },
  {
   "cell_type": "code",
   "execution_count": null,
   "id": "171a0304",
   "metadata": {},
   "outputs": [],
   "source": []
  },
  {
   "cell_type": "code",
   "execution_count": null,
   "id": "aaf03bb9",
   "metadata": {},
   "outputs": [],
   "source": []
  },
  {
   "cell_type": "code",
   "execution_count": null,
   "id": "4565204a",
   "metadata": {},
   "outputs": [],
   "source": []
  }
 ],
 "metadata": {
  "kernelspec": {
   "display_name": "Python 3",
   "language": "python",
   "name": "python3"
  },
  "language_info": {
   "codemirror_mode": {
    "name": "ipython",
    "version": 3
   },
   "file_extension": ".py",
   "mimetype": "text/x-python",
   "name": "python",
   "nbconvert_exporter": "python",
   "pygments_lexer": "ipython3",
   "version": "3.8.8"
  }
 },
 "nbformat": 4,
 "nbformat_minor": 5
}
